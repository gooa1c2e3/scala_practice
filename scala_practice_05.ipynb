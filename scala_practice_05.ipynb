{
 "cells": [
  {
   "cell_type": "code",
   "execution_count": null,
   "metadata": {
    "collapsed": true
   },
   "outputs": [],
   "source": [
    "//java有switch-case可以處理列舉的狀況\n",
    "//scala類似的方法叫Pattern match, 一個match-case的寫法\n",
    "//case後面可以接要match的值或宣告形態"
   ]
  },
  {
   "cell_type": "code",
   "execution_count": 1,
   "metadata": {
    "collapsed": false
   },
   "outputs": [
    {
     "data": {
      "text/plain": [
       "defined \u001b[32mfunction \u001b[36mmatchcase\u001b[0m"
      ]
     },
     "metadata": {},
     "output_type": "display_data"
    }
   ],
   "source": [
    "//比對值\n",
    "def matchcase(num:Int) = num match {\n",
    "        case 1 => println(\"one\")\n",
    "        case 2 => println(\"two\")\n",
    "        case 3 => println(\"three\")\n",
    "        case 4 => println(\"four\")\n",
    "        case 5 => println(\"five\")\n",
    "        case 6 => println(\"six\")\n",
    "        case 7 => println(\"seven\")\n",
    "        case 8 => println(\"eight\")\n",
    "        case 9 => println(\"nine\")\n",
    "        case 10 => println(\"ten\")\n",
    "        case 0 => println(\"zero\")\n",
    "        case _ => println(\"out of range\")\n",
    "    }\n"
   ]
  },
  {
   "cell_type": "code",
   "execution_count": 3,
   "metadata": {
    "collapsed": false
   },
   "outputs": [
    {
     "name": "stdout",
     "output_type": "stream",
     "text": [
      "zero\n",
      "ten\n",
      "three\n",
      "out of range\n"
     ]
    },
    {
     "data": {
      "text/plain": []
     },
     "metadata": {},
     "output_type": "display_data"
    }
   ],
   "source": [
    "matchcase(0)\n",
    "matchcase(10)\n",
    "matchcase(3)\n",
    "matchcase(11)"
   ]
  },
  {
   "cell_type": "code",
   "execution_count": 4,
   "metadata": {
    "collapsed": false
   },
   "outputs": [
    {
     "data": {
      "text/plain": [
       "defined \u001b[32mfunction \u001b[36mmatchcase2\u001b[0m"
      ]
     },
     "metadata": {},
     "output_type": "display_data"
    }
   ],
   "source": [
    "//跟java很大的不同是, java的switch-case不需要完善的列舉所有狀況\n",
    "//即使沒有default也不會丟出任何錯誤\n",
    "\n",
    "//scala則嚴格規定必須列舉所有狀況,\n",
    "//如果沒有任何一個case可以match的話, 會出現MatchError\n",
    "\n",
    "def matchcase2(num:Int) = num match {\n",
    "    case 1 => println(\"one\")\n",
    "}"
   ]
  },
  {
   "cell_type": "code",
   "execution_count": 5,
   "metadata": {
    "collapsed": false
   },
   "outputs": [
    {
     "ename": "",
     "evalue": "",
     "output_type": "error",
     "traceback": [
      "scala.MatchError: 0 (of class java.lang.Integer) (0 (of class java.lang.Integer))",
      "  cmd3$$user.matchcase2(Main.scala:23)",
      "  cmd4$$user$$anonfun$1.apply$mcV$sp(Main.scala:25)"
     ]
    }
   ],
   "source": [
    "matchcase2(0)"
   ]
  },
  {
   "cell_type": "code",
   "execution_count": 14,
   "metadata": {
    "collapsed": false
   },
   "outputs": [
    {
     "data": {
      "text/plain": [
       "defined \u001b[32mfunction \u001b[36mmatchType\u001b[0m"
      ]
     },
     "metadata": {},
     "output_type": "display_data"
    }
   ],
   "source": [
    "//還記得scala有自動判別型態的功能嗎?\n",
    "//可以利用match來比對型態, 而不需要像java用instenceOf\n",
    "\n",
    "def matchType[T](parameter: T) = parameter match {\n",
    "    case s:String => println(\"String\")\n",
    "    case l:List[_] => println(\"List\")\n",
    "    case a:Array[_] => println(\"Array\")\n",
    "    case i:Int => println(\"Integer\")\n",
    "    case b:Boolean => println(\"Boolean\")\n",
    "    case date:java.util.Date => println(\"Date\")\n",
    "    case d:Double => println(\"Double\")\n",
    "    case o:Object => println(\"unknow object\")\n",
    "}"
   ]
  },
  {
   "cell_type": "code",
   "execution_count": 15,
   "metadata": {
    "collapsed": false
   },
   "outputs": [
    {
     "name": "stdout",
     "output_type": "stream",
     "text": [
      "Double\n",
      "Integer\n",
      "String\n",
      "Boolean\n",
      "Date\n",
      "List\n"
     ]
    },
    {
     "data": {
      "text/plain": []
     },
     "metadata": {},
     "output_type": "display_data"
    }
   ],
   "source": [
    "matchType(1.2)\n",
    "matchType(753)\n",
    "matchType(\"scala\")\n",
    "matchType(true)\n",
    "matchType(new java.util.Date())\n",
    "matchType(List(\"a\",\"b\",\"c\"))"
   ]
  },
  {
   "cell_type": "code",
   "execution_count": 18,
   "metadata": {
    "collapsed": false
   },
   "outputs": [
    {
     "data": {
      "text/plain": [
       "defined \u001b[32mfunction \u001b[36mmatchType2\u001b[0m"
      ]
     },
     "metadata": {},
     "output_type": "display_data"
    }
   ],
   "source": [
    "//不用參數化型態[T] (java的泛型)\n",
    "//可以改用老祖宗型態(類別),在java就是Object類別\n",
    "//有兩個可選:\n",
    "//最上層的是Any類別,\n",
    "//第二大的是AnyRef\n",
    "\n",
    "def matchType2(parameter: Any) = parameter match {\n",
    "    case s:String => println(\"String\")\n",
    "    case l:List[_] => println(\"List\")\n",
    "    case a:Array[_] => println(\"Array\")\n",
    "    case i:Int => println(\"Integer\")\n",
    "    case b:Boolean => println(\"Boolean\")\n",
    "    case date:java.util.Date => println(\"Date\")\n",
    "    case d:Double => println(\"Double\")\n",
    "    case o:Object => println(\"unknow object\")\n",
    "}"
   ]
  },
  {
   "cell_type": "code",
   "execution_count": 22,
   "metadata": {
    "collapsed": false
   },
   "outputs": [
    {
     "data": {
      "text/plain": [
       "\u001b[36mli\u001b[0m: \u001b[32mList\u001b[0m[\u001b[32mString\u001b[0m] = \u001b[33mList\u001b[0m(\u001b[32m\"a\"\u001b[0m, \u001b[32m\"b\"\u001b[0m, \u001b[32m\"c\"\u001b[0m, \u001b[32m\"d\"\u001b[0m, \u001b[32m\"e\"\u001b[0m, \u001b[32m\"f\"\u001b[0m)\n",
       "defined \u001b[32mfunction \u001b[36mmatchList\u001b[0m"
      ]
     },
     "metadata": {},
     "output_type": "display_data"
    }
   ],
   "source": [
    "//還記得list分割也是宣告變數1::變數2::變數3...的形式嗎?\n",
    "//可以在case後面宣告\n",
    "val li = List(\"a\",\"b\",\"c\",\"d\",\"e\",\"f\")\n",
    "def matchList(list:List[_]) = list match {\n",
    "    case a::b::c::d => List(b,d) //用分割的變數組合新的list\n",
    "    case _ => Nil //傳回空的list(Nil的定義是List[Nothing])\n",
    "}"
   ]
  },
  {
   "cell_type": "code",
   "execution_count": 23,
   "metadata": {
    "collapsed": false
   },
   "outputs": [
    {
     "data": {
      "text/plain": [
       "\u001b[36mres22\u001b[0m: \u001b[32mList\u001b[0m[\u001b[32mAny\u001b[0m] = \u001b[33mList\u001b[0m(b, List(d, e, f))"
      ]
     },
     "metadata": {},
     "output_type": "display_data"
    }
   ],
   "source": [
    "matchList(li)"
   ]
  },
  {
   "cell_type": "code",
   "execution_count": 24,
   "metadata": {
    "collapsed": false
   },
   "outputs": [
    {
     "ename": "",
     "evalue": "",
     "output_type": "error",
     "traceback": [
      "\u001b[31mMain.scala:27: missing argument list for method apply in object List",
      "Unapplied methods are only converted to functions when a function type is expected.",
      "You can make this conversion explicit by writing `apply _` or `apply(_)` instead of `apply`.\r",
      "List[Null]:+(1,2,3)\r",
      "    ^\u001b[0m"
     ]
    }
   ],
   "source": [
    "//scala在\"虛無\"的定義上比java嚴格\n",
    "//這些都是意義相近但都不相等的關鍵字\n",
    "//搞混會死的很難看\n",
    "//Null, null, Nil, Nothing, None, Unit\n",
    "\n",
    "\n",
    "\n",
    "//參考資料http://my.oschina.net/sulliy/blog/80596"
   ]
  },
  {
   "cell_type": "code",
   "execution_count": 24,
   "metadata": {
    "collapsed": false
   },
   "outputs": [
    {
     "ename": "",
     "evalue": "",
     "output_type": "error",
     "traceback": [
      "\u001b[31mMain.scala:24: missing argument list for method apply in object List",
      "Unapplied methods are only converted to functions when a function type is expected.",
      "You can make this conversion explicit by writing `apply _` or `apply(_)` instead of `apply`.\r",
      "List[Null]:+(1,2,3)\r",
      "    ^\u001b[0m"
     ]
    }
   ],
   "source": [
    "//Null是型態, 他的值是null\n",
    "//當一個參數被宣告是Null型態的場合,\n",
    "//除了同為Null型態的東西外,都無法傳入\n",
    "\n",
    "List[Null]:+(1,2,3) \n",
    "//會報錯,因為這個List被宣告只收Null型態的東西"
   ]
  },
  {
   "cell_type": "code",
   "execution_count": 26,
   "metadata": {
    "collapsed": false
   },
   "outputs": [
    {
     "data": {
      "text/plain": [
       "\u001b[36mres25_0\u001b[0m: \u001b[32mcollection\u001b[0m.\u001b[32mimmutable\u001b[0m.\u001b[32mNil\u001b[0m.type = \u001b[33mList\u001b[0m()\n",
       "\u001b[36mres25_1\u001b[0m: \u001b[32mList\u001b[0m[(\u001b[32mInt\u001b[0m, \u001b[32mInt\u001b[0m, \u001b[32mInt\u001b[0m)] = \u001b[33mList\u001b[0m(\u001b[33m\u001b[0m(\u001b[32m1\u001b[0m, \u001b[32m2\u001b[0m, \u001b[32m3\u001b[0m))"
      ]
     },
     "metadata": {},
     "output_type": "display_data"
    }
   ],
   "source": [
    "//Nil是空的list(), 其程式定義是val Nil = List[Nothing]\n",
    "//它是可以裝東西的, 只是長度為0, 它不等於List[Null]\n",
    "Nil\n",
    "Nil:+(1,2,3)"
   ]
  },
  {
   "cell_type": "code",
   "execution_count": 28,
   "metadata": {
    "collapsed": false
   },
   "outputs": [
    {
     "data": {
      "text/plain": [
       "\u001b[36mstringList\u001b[0m: \u001b[32mList\u001b[0m[\u001b[32mString\u001b[0m] = \u001b[33mList\u001b[0m()"
      ]
     },
     "metadata": {},
     "output_type": "display_data"
    }
   ],
   "source": [
    "//Nothing並不是跟Any相對的; Null比較像是跟Any相對的東西\n",
    "//Nothing有繼承Any, 而Any好比是java的Object類別\n",
    "//事實上,Nothing是所有類別的子類別\n",
    "//包含自己定義的類別,Nothing都會自動的繼承\n",
    "//所以List[Nothing]可以接收任何型態的東西\n",
    "//顯然的,List[Null]跟List[Nothing]是完全不同的東西\n",
    "\n",
    "val stringList:List[String] = List[Nothing]()\n",
    "//宣告成List[String]的參數可以接收List[Nothing]"
   ]
  },
  {
   "cell_type": "code",
   "execution_count": 29,
   "metadata": {
    "collapsed": false
   },
   "outputs": [
    {
     "ename": "",
     "evalue": "",
     "output_type": "error",
     "traceback": [
      "\u001b[31mMain.scala:25: type mismatch;",
      " found   : List[String]",
      " required: List[Nothing]\r",
      "}.apply\r",
      "  ^\u001b[0m"
     ]
    }
   ],
   "source": [
    "//反過來寫會報錯\n",
    "//因為String類別並沒有繼承Nothing類別\n",
    "val NilList:List[Nothing] = List[String]()"
   ]
  },
  {
   "cell_type": "code",
   "execution_count": 30,
   "metadata": {
    "collapsed": false
   },
   "outputs": [
    {
     "data": {
      "text/plain": [
       "defined \u001b[32mfunction \u001b[36mget\u001b[0m"
      ]
     },
     "metadata": {},
     "output_type": "display_data"
    }
   ],
   "source": [
    "//在java定義方法的時候, 你可以return null\n",
    "//而在scala, 你可以使用Option[型態],因為return null不明智\n",
    "//Option[型態]會有兩個泛型可選擇,return Some(值)或None\n",
    "\n",
    "def get(num:Int):Option[String] = {\n",
    "    if(num > 10){Some(\"You are right!\")}\n",
    "    else None\n",
    "}"
   ]
  },
  {
   "cell_type": "code",
   "execution_count": 33,
   "metadata": {
    "collapsed": false
   },
   "outputs": [
    {
     "data": {
      "text/plain": [
       "\u001b[36mres32_0\u001b[0m: \u001b[32mOption\u001b[0m[\u001b[32mString\u001b[0m] = None\n",
       "\u001b[36mres32_1\u001b[0m: \u001b[32mOption\u001b[0m[\u001b[32mString\u001b[0m] = \u001b[33mSome\u001b[0m(\u001b[32m\"You are right!\"\u001b[0m)"
      ]
     },
     "metadata": {},
     "output_type": "display_data"
    }
   ],
   "source": [
    "get(3)\n",
    "get(21)\n",
    "\n",
    "//順便一提的是,Some跟None可以用在case"
   ]
  },
  {
   "cell_type": "code",
   "execution_count": 41,
   "metadata": {
    "collapsed": false
   },
   "outputs": [
    {
     "data": {
      "text/plain": [
       "defined \u001b[32mfunction \u001b[36mlucky\u001b[0m\n",
       "defined \u001b[32mfunction \u001b[36mprintResult\u001b[0m"
      ]
     },
     "metadata": {},
     "output_type": "display_data"
    }
   ],
   "source": [
    "def lucky(num: Int): Option[String] = {\n",
    "    if ( num > 71 & num < 97) Some(\"Lucky number!\") \n",
    "    else None\n",
    "    } \n",
    "\n",
    "def printResult(num: Int) = { \n",
    "    lucky(num) match { \n",
    "        case Some(str) => println(str) //印出Some帶的值\n",
    "        case None => println(\"Not your number.\") \n",
    "         } \n",
    "    }"
   ]
  },
  {
   "cell_type": "code",
   "execution_count": 43,
   "metadata": {
    "collapsed": false
   },
   "outputs": [
    {
     "name": "stdout",
     "output_type": "stream",
     "text": [
      "Not your number.\n",
      "Not your number.\n",
      "Lucky number!\n"
     ]
    },
    {
     "data": {
      "text/plain": []
     },
     "metadata": {},
     "output_type": "display_data"
    }
   ],
   "source": [
    "printResult(123)\n",
    "printResult(23)\n",
    "printResult(77)"
   ]
  },
  {
   "cell_type": "code",
   "execution_count": null,
   "metadata": {
    "collapsed": true
   },
   "outputs": [],
   "source": []
  }
 ],
 "metadata": {
  "kernelspec": {
   "display_name": "Scala 2.11",
   "language": "scala211",
   "name": "scala211"
  },
  "language_info": {
   "codemirror_mode": "text/x-scala",
   "file_extension": ".scala",
   "mimetype": "text/x-scala",
   "name": "scala211",
   "pygments_lexer": "scala",
   "version": "2.11.8"
  }
 },
 "nbformat": 4,
 "nbformat_minor": 0
}
