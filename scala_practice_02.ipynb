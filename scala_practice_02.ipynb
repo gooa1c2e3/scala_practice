{
 "cells": [
  {
   "cell_type": "code",
   "execution_count": null,
   "metadata": {
    "collapsed": true
   },
   "outputs": [],
   "source": [
    "//函式(function)跟方法(method)不一樣\n",
    "//方法是跟著物件跑的,有很高的相依性,其意義為物件的行為\n",
    "//函式是獨立的個體\n",
    "//scala的函式分成簽章與本體兩部分:\n",
    "\n",
    "//def function_name(parameter1:Int, parameter2:Int):String ={\n",
    "//val sentence = parameter1.toString()+ parameter2.toString()\n",
    "//sentence\n",
    "//}\n",
    "\n",
    "//簽章包含def, 函式名稱, 傳入的參數, 傳回值的型態\n",
    "//def宣告function\n",
    "//function_name()\n",
    "//(裡面放傳入的參數,用逗號隔開,每個參數要個別定義型態)\n",
    "//如果參數x:Int是宣告參數x的型態是Int這件事可以理解的話,\n",
    "//function():Int就是宣告這個函式最後給出的東西會是Int\n",
    "//跟宣告變數型態一樣,函式的型態也可以省略,讓scala自己判斷\n",
    "\n",
    "//本體則是簽章之後的等號以下的東西,可以用{}括起來,可以不加\n",
    "//如果函式內有很多行程式碼還是加上{}"
   ]
  },
  {
   "cell_type": "code",
   "execution_count": 1,
   "metadata": {
    "collapsed": false
   },
   "outputs": [
    {
     "data": {
      "text/plain": [
       "defined \u001b[32mfunction \u001b[36mfunction_name\u001b[0m"
      ]
     },
     "metadata": {},
     "output_type": "display_data"
    }
   ],
   "source": [
    "def function_name(parameter1:Int, parameter2:Int):String = {\n",
    "    val sentence = parameter1.toString() + parameter2.toString()\n",
    "    sentence //scala會自動return最後一行\n",
    "}"
   ]
  },
  {
   "cell_type": "code",
   "execution_count": 2,
   "metadata": {
    "collapsed": false
   },
   "outputs": [
    {
     "data": {
      "text/plain": [
       "\u001b[36mres1\u001b[0m: \u001b[32mString\u001b[0m = \u001b[32m\"111999\"\u001b[0m"
      ]
     },
     "metadata": {},
     "output_type": "display_data"
    }
   ],
   "source": [
    "function_name(111,999)"
   ]
  },
  {
   "cell_type": "code",
   "execution_count": 3,
   "metadata": {
    "collapsed": false
   },
   "outputs": [
    {
     "data": {
      "text/plain": [
       "defined \u001b[32mfunction \u001b[36mfunction_2\u001b[0m"
      ]
     },
     "metadata": {},
     "output_type": "display_data"
    }
   ],
   "source": [
    "//省略宣告函式型態\n",
    "def function_2(parameter1:Int, parameter2:Int) = {\n",
    "    val sentence = parameter1.toString() + parameter2.toString()\n",
    "    sentence //scala會自動return最後一行\n",
    "}"
   ]
  },
  {
   "cell_type": "code",
   "execution_count": 15,
   "metadata": {
    "collapsed": false
   },
   "outputs": [
    {
     "data": {
      "text/plain": [
       "\u001b[36mres14\u001b[0m: \u001b[32mString\u001b[0m = \u001b[32m\"246642\"\u001b[0m"
      ]
     },
     "metadata": {},
     "output_type": "display_data"
    }
   ],
   "source": [
    "function_2(246,642)"
   ]
  },
  {
   "cell_type": "code",
   "execution_count": 13,
   "metadata": {
    "collapsed": false
   },
   "outputs": [
    {
     "data": {
      "text/plain": [
       "defined \u001b[32mfunction \u001b[36mfunction_3\u001b[0m"
      ]
     },
     "metadata": {},
     "output_type": "display_data"
    }
   ],
   "source": [
    "//省略型態跟等號, \n",
    "//這會被視為function():Unit\n",
    "//等同java宣告void method(){}\n",
    "//即沒有傳回值\n",
    "def function_3(parameter1:Int, parameter2:Int){\n",
    "    val sentence = parameter1.toString() + parameter2.toString()\n",
    "    println(sentence)\n",
    "}"
   ]
  },
  {
   "cell_type": "code",
   "execution_count": 14,
   "metadata": {
    "collapsed": false
   },
   "outputs": [
    {
     "name": "stdout",
     "output_type": "stream",
     "text": [
      "123456\n"
     ]
    },
    {
     "data": {
      "text/plain": []
     },
     "metadata": {},
     "output_type": "display_data"
    }
   ],
   "source": [
    "function_3(123,456)"
   ]
  },
  {
   "cell_type": "code",
   "execution_count": 18,
   "metadata": {
    "collapsed": false
   },
   "outputs": [
    {
     "data": {
      "text/plain": [
       "defined \u001b[32mfunction \u001b[36mfunction_4\u001b[0m"
      ]
     },
     "metadata": {},
     "output_type": "display_data"
    }
   ],
   "source": [
    "//scala的哲學是能省則省,寫少做多\n",
    "//如果函式不需要傳入參數,則小括號()也可以省略\n",
    "def function_4 = \"12358\""
   ]
  },
  {
   "cell_type": "code",
   "execution_count": 19,
   "metadata": {
    "collapsed": false
   },
   "outputs": [
    {
     "data": {
      "text/plain": [
       "\u001b[36mres18\u001b[0m: \u001b[32mString\u001b[0m = \u001b[32m\"12358\"\u001b[0m"
      ]
     },
     "metadata": {},
     "output_type": "display_data"
    }
   ],
   "source": [
    "function_4"
   ]
  },
  {
   "cell_type": "code",
   "execution_count": 21,
   "metadata": {
    "collapsed": false
   },
   "outputs": [
    {
     "data": {
      "text/plain": [
       "defined \u001b[32mfunction \u001b[36mfunction_5\u001b[0m"
      ]
     },
     "metadata": {},
     "output_type": "display_data"
    }
   ],
   "source": [
    "//參數化型態(parameterized type)\n",
    "//寫作[T]\n",
    "//加在宣告的函式名稱後面, 參數型態就可以宣告成T\n",
    "\n",
    "//類似java的泛型(generics)\n",
    "//寫作<T>\n",
    "\n",
    "//當你需要傳入參數, 但連參數型態都無法確定的時候使用\n",
    "def function_5[T](parameter:T) = List(parameter)"
   ]
  },
  {
   "cell_type": "code",
   "execution_count": 22,
   "metadata": {
    "collapsed": false
   },
   "outputs": [
    {
     "data": {
      "text/plain": [
       "\u001b[36ma\u001b[0m: \u001b[32mInt\u001b[0m = \u001b[32m5\u001b[0m\n",
       "\u001b[36mb\u001b[0m: \u001b[32mString\u001b[0m = \u001b[32m\"How about this?\"\u001b[0m\n",
       "\u001b[36mc\u001b[0m: \u001b[32mList\u001b[0m[\u001b[32mInt\u001b[0m] = \u001b[33mList\u001b[0m(\u001b[32m1\u001b[0m, \u001b[32m3\u001b[0m, \u001b[32m5\u001b[0m)\n",
       "\u001b[36mres21_3\u001b[0m: \u001b[32mList\u001b[0m[\u001b[32mInt\u001b[0m] = \u001b[33mList\u001b[0m(\u001b[32m5\u001b[0m)"
      ]
     },
     "metadata": {},
     "output_type": "display_data"
    }
   ],
   "source": [
    "//宣告三個不同型態的變數塞進function_5\n",
    "val a = 5  \n",
    "val b = \"How about this?\"\n",
    "val c = List(1,3,5)\n",
    "\n",
    "function_5(a)"
   ]
  },
  {
   "cell_type": "code",
   "execution_count": 23,
   "metadata": {
    "collapsed": false
   },
   "outputs": [
    {
     "data": {
      "text/plain": [
       "\u001b[36mres22\u001b[0m: \u001b[32mList\u001b[0m[\u001b[32mString\u001b[0m] = \u001b[33mList\u001b[0m(\u001b[32m\"How about this?\"\u001b[0m)"
      ]
     },
     "metadata": {},
     "output_type": "display_data"
    }
   ],
   "source": [
    "function_5(b)"
   ]
  },
  {
   "cell_type": "code",
   "execution_count": 24,
   "metadata": {
    "collapsed": false
   },
   "outputs": [
    {
     "data": {
      "text/plain": [
       "\u001b[36mres23\u001b[0m: \u001b[32mList\u001b[0m[\u001b[32mList\u001b[0m[\u001b[32mInt\u001b[0m]] = \u001b[33mList\u001b[0m(\u001b[33mList\u001b[0m(\u001b[32m1\u001b[0m, \u001b[32m3\u001b[0m, \u001b[32m5\u001b[0m))"
      ]
     },
     "metadata": {},
     "output_type": "display_data"
    }
   ],
   "source": [
    "function_5(c)"
   ]
  },
  {
   "cell_type": "code",
   "execution_count": 25,
   "metadata": {
    "collapsed": false
   },
   "outputs": [
    {
     "data": {
      "text/plain": [
       "defined \u001b[32mfunction \u001b[36madd\u001b[0m\n",
       "\u001b[36mnums\u001b[0m: \u001b[32mList\u001b[0m[\u001b[32mInt\u001b[0m] = \u001b[33mList\u001b[0m(\u001b[32m1\u001b[0m, \u001b[32m3\u001b[0m, \u001b[32m4\u001b[0m, \u001b[32m6\u001b[0m, \u001b[32m7\u001b[0m)"
      ]
     },
     "metadata": {},
     "output_type": "display_data"
    }
   ],
   "source": [
    "//scala可以把函式當作參數\n",
    "def add(a:Int,b:Int) = a + b\n",
    "val nums = List(1,3,4,6,7)"
   ]
  },
  {
   "cell_type": "code",
   "execution_count": 26,
   "metadata": {
    "collapsed": false
   },
   "outputs": [
    {
     "data": {
      "text/plain": [
       "\u001b[36mres25\u001b[0m: \u001b[32mInt\u001b[0m = \u001b[32m21\u001b[0m"
      ]
     },
     "metadata": {},
     "output_type": "display_data"
    }
   ],
   "source": [
    "//List型態有.foldLeft跟.foldRight\n",
    "//List.foldLeft(起始index){函式}\n",
    "//它會從指定的index開始,每一個ele都放進呼叫的函式一次\n",
    "nums.foldLeft(0){add}"
   ]
  },
  {
   "cell_type": "code",
   "execution_count": 27,
   "metadata": {
    "collapsed": false
   },
   "outputs": [
    {
     "data": {
      "text/plain": [
       "\u001b[36mres26\u001b[0m: (\u001b[32mInt\u001b[0m, \u001b[32mInt\u001b[0m) => \u001b[32mInt\u001b[0m = <function2>"
      ]
     },
     "metadata": {},
     "output_type": "display_data"
    }
   ],
   "source": [
    "//匿名函式(anonymous function)\n",
    "//把def add(a:Int,b:Int) = a + b寫成匿名函式:\n",
    "(a:Int,b:Int) => a + b"
   ]
  },
  {
   "cell_type": "code",
   "execution_count": 28,
   "metadata": {
    "collapsed": false
   },
   "outputs": [
    {
     "data": {
      "text/plain": [
       "\u001b[36mres27\u001b[0m: \u001b[32mInt\u001b[0m = \u001b[32m21\u001b[0m"
      ]
     },
     "metadata": {},
     "output_type": "display_data"
    }
   ],
   "source": [
    "//改用匿名函式\n",
    "nums.foldLeft(0){(a:Int,b:Int) => a + b}\n",
    "\n",
    "//pyspark上的reduceByKey\n",
    "//rdd.reduceByKey(lambda x,y:x+y) 類似的概念\n",
    "//先1+3得到4\n",
    "//再4+4得到8\n",
    "//8+6得到14\n",
    "//14+7得到21"
   ]
  },
  {
   "cell_type": "code",
   "execution_count": 29,
   "metadata": {
    "collapsed": false
   },
   "outputs": [
    {
     "data": {
      "text/plain": [
       "\u001b[36mres28\u001b[0m: \u001b[32mInt\u001b[0m = \u001b[32m21\u001b[0m"
      ]
     },
     "metadata": {},
     "output_type": "display_data"
    }
   ],
   "source": [
    "//連型態宣告都懶了...這就是scala\n",
    "nums.foldLeft(0){(a,b) => a + b}"
   ]
  },
  {
   "cell_type": "code",
   "execution_count": 30,
   "metadata": {
    "collapsed": false
   },
   "outputs": [
    {
     "data": {
      "text/plain": [
       "\u001b[36mres29\u001b[0m: \u001b[32mInt\u001b[0m = \u001b[32m21\u001b[0m"
      ]
     },
     "metadata": {},
     "output_type": "display_data"
    }
   ],
   "source": [
    "//更懶! 參數改用底線, 連a跟b都不宣告了\n",
    "nums.foldLeft(0){ _ + _ }"
   ]
  },
  {
   "cell_type": "code",
   "execution_count": null,
   "metadata": {
    "collapsed": true
   },
   "outputs": [],
   "source": []
  }
 ],
 "metadata": {
  "kernelspec": {
   "display_name": "Scala 2.11",
   "language": "scala211",
   "name": "scala211"
  },
  "language_info": {
   "codemirror_mode": "text/x-scala",
   "file_extension": ".scala",
   "mimetype": "text/x-scala",
   "name": "scala211",
   "pygments_lexer": "scala",
   "version": "2.11.8"
  }
 },
 "nbformat": 4,
 "nbformat_minor": 0
}
