{
 "cells": [
  {
   "cell_type": "code",
   "execution_count": null,
   "metadata": {
    "collapsed": true
   },
   "outputs": [],
   "source": [
    "//參考資料:\n",
    "//http://wilberchao.blogspot.tw/2014/01/scala-basic1_26.html\n",
    "//在JAVA上int是類別型態, Integer是物件型態\n",
    "//scala所有東西都是物件, 類別型態同時也是物件型態\n",
    "//在scala上是Int\n",
    "//型態宣告都放在冒號後面, 如x:Int\n",
    "//底線_代表default value, 也可以表示之後再給值,現在先不給\n"
   ]
  },
  {
   "cell_type": "code",
   "execution_count": 53,
   "metadata": {
    "collapsed": false
   },
   "outputs": [
    {
     "data": {
      "text/plain": [
       "\u001b[36msum1\u001b[0m: \u001b[32mInt\u001b[0m = \u001b[32m3\u001b[0m\n",
       "\u001b[36msum2\u001b[0m: \u001b[32mInt\u001b[0m = \u001b[32m3\u001b[0m"
      ]
     },
     "metadata": {},
     "output_type": "display_data"
    }
   ],
   "source": [
    "val sum1:Int = 1+2\n",
    "val sum2 = 1+2\n",
    "//scala有很強的類型推斷能力,大部分時候不宣告型態也是可以的\n",
    "//只需要宣告變數是可變(var)還是不可變的(val)\n",
    "//scala推薦使用val\n",
    "//這是imperative(命令式) progranmming\n",
    "//與functional(函數式) programming的差別"
   ]
  },
  {
   "cell_type": "code",
   "execution_count": 1,
   "metadata": {
    "collapsed": false
   },
   "outputs": [
    {
     "data": {
      "text/plain": [
       "\u001b[36mi\u001b[0m: \u001b[32mInt\u001b[0m = \u001b[32m1\u001b[0m"
      ]
     },
     "metadata": {},
     "output_type": "display_data"
    }
   ],
   "source": [
    "val i = 1 \n",
    "//val不變量,給初始值後就固定,類似JAVA宣告final的變數\n",
    "//var可變量"
   ]
  },
  {
   "cell_type": "code",
   "execution_count": 20,
   "metadata": {
    "collapsed": false
   },
   "outputs": [
    {
     "data": {
      "text/plain": [
       "defined \u001b[32mfunction \u001b[36mf\u001b[0m"
      ]
     },
     "metadata": {},
     "output_type": "display_data"
    }
   ],
   "source": [
    "// f(x) = x + 1\n",
    "def f(x:Int) = x + 1 \n",
    "//函數編程的體會"
   ]
  },
  {
   "cell_type": "code",
   "execution_count": 22,
   "metadata": {
    "collapsed": false
   },
   "outputs": [
    {
     "data": {
      "text/plain": [
       "\u001b[36mres21\u001b[0m: \u001b[32mInt\u001b[0m = \u001b[32m12\u001b[0m"
      ]
     },
     "metadata": {},
     "output_type": "display_data"
    }
   ],
   "source": [
    "f(11) //呼叫f(x)"
   ]
  },
  {
   "cell_type": "code",
   "execution_count": 23,
   "metadata": {
    "collapsed": false
   },
   "outputs": [
    {
     "data": {
      "text/plain": [
       "\u001b[36mres22\u001b[0m: \u001b[32mInt\u001b[0m => \u001b[32mInt\u001b[0m = <function1>"
      ]
     },
     "metadata": {},
     "output_type": "display_data"
    }
   ],
   "source": [
    "(x:Int) => x +1  //宣告匿名函數"
   ]
  },
  {
   "cell_type": "code",
   "execution_count": 25,
   "metadata": {
    "collapsed": false
   },
   "outputs": [
    {
     "data": {
      "text/plain": [
       "\u001b[36mres24\u001b[0m: \u001b[32mInt\u001b[0m = \u001b[32m7\u001b[0m"
      ]
     },
     "metadata": {},
     "output_type": "display_data"
    }
   ],
   "source": [
    "res22(6) //呼叫匿名函數"
   ]
  },
  {
   "cell_type": "code",
   "execution_count": 19,
   "metadata": {
    "collapsed": false
   },
   "outputs": [
    {
     "data": {
      "text/plain": [
       "\u001b[36mnoname\u001b[0m: \u001b[32mInt\u001b[0m => \u001b[32mInt\u001b[0m = <function1>"
      ]
     },
     "metadata": {},
     "output_type": "display_data"
    }
   ],
   "source": [
    "val noname = (x:Int) => x + 10  \n",
    "//將匿名函數存到noname這個變數"
   ]
  },
  {
   "cell_type": "code",
   "execution_count": 15,
   "metadata": {
    "collapsed": false
   },
   "outputs": [
    {
     "data": {
      "text/plain": [
       "defined \u001b[32mfunction \u001b[36mtowfunc\u001b[0m"
      ]
     },
     "metadata": {},
     "output_type": "display_data"
    }
   ],
   "source": [
    "def towfunc(i:String):\n",
    "  String ={\n",
    "  println(\"How\")\n",
    "  i+1\n",
    "  }"
   ]
  },
  {
   "cell_type": "code",
   "execution_count": 16,
   "metadata": {
    "collapsed": false
   },
   "outputs": [
    {
     "name": "stdout",
     "output_type": "stream",
     "text": [
      "How\n"
     ]
    },
    {
     "data": {
      "text/plain": [
       "\u001b[36mres15\u001b[0m: \u001b[32mString\u001b[0m = \u001b[32m\"11\"\u001b[0m"
      ]
     },
     "metadata": {},
     "output_type": "display_data"
    }
   ],
   "source": [
    "towfunc(\"1\")"
   ]
  },
  {
   "cell_type": "code",
   "execution_count": 26,
   "metadata": {
    "collapsed": false
   },
   "outputs": [
    {
     "data": {
      "text/plain": [
       "defined \u001b[32mfunction \u001b[36myes\u001b[0m"
      ]
     },
     "metadata": {},
     "output_type": "display_data"
    }
   ],
   "source": [
    "def yes(ans:Boolean) = println(\"yes\")"
   ]
  },
  {
   "cell_type": "code",
   "execution_count": 27,
   "metadata": {
    "collapsed": false
   },
   "outputs": [
    {
     "name": "stdout",
     "output_type": "stream",
     "text": [
      "yes\n"
     ]
    },
    {
     "data": {
      "text/plain": []
     },
     "metadata": {},
     "output_type": "display_data"
    }
   ],
   "source": [
    "yes(true)"
   ]
  },
  {
   "cell_type": "code",
   "execution_count": 28,
   "metadata": {
    "collapsed": false
   },
   "outputs": [
    {
     "data": {
      "text/plain": [
       "\u001b[36mres27\u001b[0m: \u001b[32mBoolean\u001b[0m => \u001b[32mUnit\u001b[0m = <function1>"
      ]
     },
     "metadata": {},
     "output_type": "display_data"
    }
   ],
   "source": [
    "(ans:Boolean) => println(\"NOOOOO\")"
   ]
  },
  {
   "cell_type": "code",
   "execution_count": 31,
   "metadata": {
    "collapsed": false
   },
   "outputs": [
    {
     "data": {
      "text/plain": [
       "\u001b[36mhowmany\u001b[0m: \u001b[32mInt\u001b[0m => \u001b[32mString\u001b[0m = <function1>"
      ]
     },
     "metadata": {},
     "output_type": "display_data"
    }
   ],
   "source": [
    "val howmany: Int => \n",
    "String = myInt => \n",
    "\"The value of myInt is: \" + myInt.toString()\n",
    "\n",
    "// A => B 表示輸入參數A傳回B\n",
    "// A => Unit 表示不傳回\n",
    "// () => B 表示不需要輸入參數,傳回B"
   ]
  },
  {
   "cell_type": "code",
   "execution_count": 32,
   "metadata": {
    "collapsed": false
   },
   "outputs": [
    {
     "data": {
      "text/plain": [
       "\u001b[36mres31\u001b[0m: \u001b[32mString\u001b[0m = \u001b[32m\"The value of myInt is: 4\"\u001b[0m"
      ]
     },
     "metadata": {},
     "output_type": "display_data"
    }
   ],
   "source": [
    "howmany (4)"
   ]
  },
  {
   "cell_type": "code",
   "execution_count": 33,
   "metadata": {
    "collapsed": false
   },
   "outputs": [
    {
     "data": {
      "text/plain": [
       "defined \u001b[32mfunction \u001b[36mhowmany2\u001b[0m"
      ]
     },
     "metadata": {},
     "output_type": "display_data"
    }
   ],
   "source": [
    "def howmany2(x:Int):String = \n",
    "\"The value of myInt is: \" + x.toString()"
   ]
  },
  {
   "cell_type": "code",
   "execution_count": 34,
   "metadata": {
    "collapsed": false
   },
   "outputs": [
    {
     "data": {
      "text/plain": [
       "\u001b[36mres33\u001b[0m: \u001b[32mString\u001b[0m = \u001b[32m\"The value of myInt is: 7\"\u001b[0m"
      ]
     },
     "metadata": {},
     "output_type": "display_data"
    }
   ],
   "source": [
    "howmany2(7)"
   ]
  },
  {
   "cell_type": "code",
   "execution_count": 35,
   "metadata": {
    "collapsed": false
   },
   "outputs": [
    {
     "data": {
      "text/plain": [
       "defined \u001b[32mfunction \u001b[36mhowmany3\u001b[0m"
      ]
     },
     "metadata": {},
     "output_type": "display_data"
    }
   ],
   "source": [
    "def howmany3(x:Int):String = {\n",
    "    val myString = x\n",
    "    \"The value of myInt is: \" + myString.toString()\n",
    "} "
   ]
  },
  {
   "cell_type": "code",
   "execution_count": 36,
   "metadata": {
    "collapsed": false
   },
   "outputs": [
    {
     "data": {
      "text/plain": [
       "\u001b[36mres35\u001b[0m: \u001b[32mString\u001b[0m = \u001b[32m\"The value of myInt is: 10\"\u001b[0m"
      ]
     },
     "metadata": {},
     "output_type": "display_data"
    }
   ],
   "source": [
    "howmany3(10)"
   ]
  },
  {
   "cell_type": "code",
   "execution_count": 37,
   "metadata": {
    "collapsed": false
   },
   "outputs": [
    {
     "data": {
      "text/plain": [
       "\u001b[36mhowmany4\u001b[0m: \u001b[32mInt\u001b[0m => \u001b[32mString\u001b[0m = <function1>"
      ]
     },
     "metadata": {},
     "output_type": "display_data"
    }
   ],
   "source": [
    "val howmany4 = (x:Int) => \"The value of myInt is: \" + x.toString()"
   ]
  },
  {
   "cell_type": "code",
   "execution_count": 38,
   "metadata": {
    "collapsed": false
   },
   "outputs": [
    {
     "data": {
      "text/plain": [
       "\u001b[36mres37\u001b[0m: \u001b[32mString\u001b[0m = \u001b[32m\"The value of myInt is: 17\"\u001b[0m"
      ]
     },
     "metadata": {},
     "output_type": "display_data"
    }
   ],
   "source": [
    "howmany4(17)"
   ]
  },
  {
   "cell_type": "code",
   "execution_count": 39,
   "metadata": {
    "collapsed": false
   },
   "outputs": [
    {
     "data": {
      "text/plain": [
       "\u001b[36madd\u001b[0m: (\u001b[32mInt\u001b[0m, \u001b[32mInt\u001b[0m) => \u001b[32mInt\u001b[0m = <function2>"
      ]
     },
     "metadata": {},
     "output_type": "display_data"
    }
   ],
   "source": [
    "val add = (m:Int, n:Int) => m+n  //傳入兩個Int,傳回加總值"
   ]
  },
  {
   "cell_type": "code",
   "execution_count": 41,
   "metadata": {
    "collapsed": false
   },
   "outputs": [
    {
     "data": {
      "text/plain": [
       "\u001b[36madd2\u001b[0m: \u001b[32mInt\u001b[0m => \u001b[32mInt\u001b[0m = <function1>"
      ]
     },
     "metadata": {},
     "output_type": "display_data"
    }
   ],
   "source": [
    "val add2 = add(2,_:Int) //用底線表示第二個值"
   ]
  },
  {
   "cell_type": "code",
   "execution_count": 42,
   "metadata": {
    "collapsed": false
   },
   "outputs": [
    {
     "data": {
      "text/plain": [
       "\u001b[36mres41\u001b[0m: \u001b[32mInt\u001b[0m = \u001b[32m11\u001b[0m"
      ]
     },
     "metadata": {},
     "output_type": "display_data"
    }
   ],
   "source": [
    "add2(9) //給定第二個值"
   ]
  },
  {
   "cell_type": "code",
   "execution_count": 44,
   "metadata": {
    "collapsed": false
   },
   "outputs": [
    {
     "name": "stdout",
     "output_type": "stream",
     "text": [
      "I SAY YES!!\n"
     ]
    },
    {
     "data": {
      "text/plain": [
       "\u001b[36manser\u001b[0m: \u001b[32mString\u001b[0m = \u001b[32m\"YES!!\"\u001b[0m\n",
       "\u001b[36mmy_anser\u001b[0m: \u001b[32mString\u001b[0m = \u001b[32m\"I SAY YES!!\"\u001b[0m"
      ]
     },
     "metadata": {},
     "output_type": "display_data"
    }
   ],
   "source": [
    "val anser = \"YES!!\"\n",
    "val my_anser = \"I SAY\" +\" \"+anser\n",
    "println(my_anser)"
   ]
  },
  {
   "cell_type": "code",
   "execution_count": 47,
   "metadata": {
    "collapsed": false
   },
   "outputs": [
    {
     "name": "stdout",
     "output_type": "stream",
     "text": [
      "I SAY $anser\n",
      "I SAY YES!!\n"
     ]
    },
    {
     "data": {
      "text/plain": [
       "\u001b[36mmy_anser2\u001b[0m: \u001b[32mString\u001b[0m = \u001b[32m\"I SAY $anser\"\u001b[0m\n",
       "\u001b[36mmy_anser3\u001b[0m: \u001b[32mString\u001b[0m = \u001b[32m\"I SAY YES!!\"\u001b[0m"
      ]
     },
     "metadata": {},
     "output_type": "display_data"
    }
   ],
   "source": [
    "val my_anser2 = \"I SAY $anser\"\n",
    "println(my_anser2)\n",
    "val my_anser3 = s\"I SAY $anser\"\n",
    "println(my_anser3)\n",
    "\n",
    "//用s\"句子\" 搭配$變數表示一個句子裡面有一個變數\n",
    "//當然也是可以用變數.toString()再去相加串接句子"
   ]
  },
  {
   "cell_type": "code",
   "execution_count": 50,
   "metadata": {
    "collapsed": false
   },
   "outputs": [
    {
     "data": {
      "text/plain": [
       "\u001b[36mmessage\u001b[0m: \u001b[32mString\u001b[0m = \u001b[32m\"How to use XML fromat?\"\u001b[0m\n",
       "\u001b[36mnum\u001b[0m: \u001b[32mString\u001b[0m = \u001b[32m\"1\"\u001b[0m\n",
       "\u001b[36malert\u001b[0m: \u001b[32mxml\u001b[0m.\u001b[32mElem\u001b[0m = \u001b[33mElem\u001b[0m(\n",
       "  <alert>\n",
       "            <message priority=\"1\">How to use XML fromat?</message>\n",
       "            <date>Sat Jun 11 21:54:36 CST 2016</date>\n",
       "            </alert>\n",
       ")"
      ]
     },
     "metadata": {},
     "output_type": "display_data"
    }
   ],
   "source": [
    "//scala會自動透過scala.xml.Elem轉換XML格式\n",
    "//插入xml的變數用{}加進去\n",
    "val message = \"How to use XML fromat?\"\n",
    "val num = \"1\"\n",
    "val alert = <alert>\n",
    "            <message priority={num}>{message}</message>\n",
    "            <date>{new java.util.Date()}</date>\n",
    "            </alert>\n",
    "//中間new了一個java Date物件來取得現在的時間"
   ]
  },
  {
   "cell_type": "code",
   "execution_count": 56,
   "metadata": {
    "collapsed": false
   },
   "outputs": [
    {
     "data": {
      "text/plain": [
       "\u001b[36mpi\u001b[0m: \u001b[32mDouble\u001b[0m = \u001b[32m3.141592653589793\u001b[0m\n",
       "\u001b[36mrandom1\u001b[0m: \u001b[32mDouble\u001b[0m = \u001b[32m0.7337555063634785\u001b[0m\n",
       "\u001b[36mrandom2\u001b[0m: \u001b[32mDouble\u001b[0m = \u001b[32m0.3369318804157392\u001b[0m\n",
       "\u001b[36mrandom3\u001b[0m: \u001b[32mDouble\u001b[0m = \u001b[32m0.9124562679250642\u001b[0m"
      ]
     },
     "metadata": {},
     "output_type": "display_data"
    }
   ],
   "source": [
    "val pi = java.lang.Math.PI\n",
    "val random1 = java.lang.Math.random()\n",
    "val random2 = java.lang.Math.random()\n",
    "val random3 = java.lang.Math.random()\n",
    "//只要記得java的classpath,就可以直接呼叫來用"
   ]
  },
  {
   "cell_type": "code",
   "execution_count": 51,
   "metadata": {
    "collapsed": false
   },
   "outputs": [
    {
     "name": "stdout",
     "output_type": "stream",
     "text": [
      "2\n"
     ]
    },
    {
     "data": {
      "text/plain": [
       "\u001b[36ma\u001b[0m: \u001b[32mInt\u001b[0m = \u001b[32m5\u001b[0m\n",
       "\u001b[36mb\u001b[0m: \u001b[32mInt\u001b[0m = \u001b[32m2\u001b[0m"
      ]
     },
     "metadata": {},
     "output_type": "display_data"
    }
   ],
   "source": [
    "var a = 1\n",
    "val b = a + 1\n",
    "a = 5\n",
    "println(b)\n",
    "\n",
    "//宣告a = 1\n",
    "//b = 1+1\n",
    "//更改a=5\n",
    "//印出b = 2"
   ]
  },
  {
   "cell_type": "code",
   "execution_count": 52,
   "metadata": {
    "collapsed": false
   },
   "outputs": [
    {
     "name": "stdout",
     "output_type": "stream",
     "text": [
      "6\n"
     ]
    },
    {
     "data": {
      "text/plain": [
       "\u001b[36ma\u001b[0m: \u001b[32mInt\u001b[0m = \u001b[32m5\u001b[0m\n",
       "\u001b[36mb\u001b[0m: \u001b[32mInt\u001b[0m = \u001b[32m<lazy>\u001b[0m"
      ]
     },
     "metadata": {},
     "output_type": "display_data"
    }
   ],
   "source": [
    "var a = 1\n",
    "lazy val b = a + 1\n",
    "a = 5\n",
    "println(b)\n",
    "\n",
    "//注意lazy evaluation\n",
    "//宣告a = 1\n",
    "//宣告lazy b\n",
    "//更改a = 5\n",
    "//印出b的時候才檢查b = 5 + 1\n",
    "//注意只有val可以宣告lazy"
   ]
  },
  {
   "cell_type": "code",
   "execution_count": 62,
   "metadata": {
    "collapsed": false
   },
   "outputs": [
    {
     "data": {
      "text/plain": [
       "\u001b[36mli\u001b[0m: \u001b[32mList\u001b[0m[\u001b[32mInt\u001b[0m] = \u001b[33mList\u001b[0m(\u001b[32m11\u001b[0m, \u001b[32m13\u001b[0m, \u001b[32m15\u001b[0m, \u001b[32m17\u001b[0m, \u001b[32m19\u001b[0m)\n",
       "\u001b[36mhead\u001b[0m: \u001b[32mInt\u001b[0m = \u001b[32m11\u001b[0m\n",
       "\u001b[36mbody\u001b[0m: \u001b[32mInt\u001b[0m = \u001b[32m13\u001b[0m\n",
       "\u001b[36mtail\u001b[0m: \u001b[32mList\u001b[0m[\u001b[32mInt\u001b[0m] = \u001b[33mList\u001b[0m(\u001b[32m15\u001b[0m, \u001b[32m17\u001b[0m, \u001b[32m19\u001b[0m)"
      ]
     },
     "metadata": {},
     "output_type": "display_data"
    }
   ],
   "source": [
    "val li = List(11,13,15,17,19)\n",
    "val head :: body :: tail = li\n",
    "//::可用來分割list,一個變數取出list一個ele\n",
    "//最後一個變數裝list剩下的部分"
   ]
  },
  {
   "cell_type": "code",
   "execution_count": 63,
   "metadata": {
    "collapsed": false
   },
   "outputs": [
    {
     "data": {
      "text/plain": [
       "\u001b[36mhead\u001b[0m: \u001b[32mInt\u001b[0m = \u001b[32m11\u001b[0m\n",
       "\u001b[36mtail\u001b[0m: \u001b[32mList\u001b[0m[\u001b[32mInt\u001b[0m] = \u001b[33mList\u001b[0m(\u001b[32m13\u001b[0m, \u001b[32m15\u001b[0m, \u001b[32m17\u001b[0m, \u001b[32m19\u001b[0m)"
      ]
     },
     "metadata": {},
     "output_type": "display_data"
    }
   ],
   "source": [
    "val head :: tail = li"
   ]
  },
  {
   "cell_type": "code",
   "execution_count": 65,
   "metadata": {
    "collapsed": false
   },
   "outputs": [
    {
     "data": {
      "text/plain": [
       "\u001b[36mone\u001b[0m: \u001b[32mInt\u001b[0m = \u001b[32m13\u001b[0m\n",
       "\u001b[36mtwo\u001b[0m: \u001b[32mInt\u001b[0m = \u001b[32m15\u001b[0m\n",
       "\u001b[36mthree\u001b[0m: \u001b[32mList\u001b[0m[\u001b[32mInt\u001b[0m] = \u001b[33mList\u001b[0m(\u001b[32m17\u001b[0m, \u001b[32m19\u001b[0m)"
      ]
     },
     "metadata": {},
     "output_type": "display_data"
    }
   ],
   "source": [
    "val one::two::three = tail"
   ]
  },
  {
   "cell_type": "code",
   "execution_count": null,
   "metadata": {
    "collapsed": true
   },
   "outputs": [],
   "source": []
  }
 ],
 "metadata": {
  "kernelspec": {
   "display_name": "Scala 2.11",
   "language": "scala211",
   "name": "scala211"
  },
  "language_info": {
   "codemirror_mode": "text/x-scala",
   "file_extension": ".scala",
   "mimetype": "text/x-scala",
   "name": "scala211",
   "pygments_lexer": "scala",
   "version": "2.11.8"
  }
 },
 "nbformat": 4,
 "nbformat_minor": 0
}
