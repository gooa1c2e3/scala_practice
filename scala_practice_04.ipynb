{
 "cells": [
  {
   "cell_type": "code",
   "execution_count": null,
   "metadata": {
    "collapsed": true
   },
   "outputs": [],
   "source": [
    "//for迴圈詳解"
   ]
  },
  {
   "cell_type": "code",
   "execution_count": 4,
   "metadata": {
    "collapsed": false,
    "scrolled": false
   },
   "outputs": [
    {
     "name": "stdout",
     "output_type": "stream",
     "text": [
      ".\\opencv_SIFT.ipynb\n",
      ".\\opencv_surf.ipynb\n",
      ".\\pygame.ipynb\n",
      ".\\scala_practice_01.ipynb\n",
      ".\\scala_practice_02.ipynb\n",
      ".\\scala_practice_03.ipynb\n",
      ".\\scala_practice_04.ipynb\n"
     ]
    },
    {
     "data": {
      "text/plain": [
       "\u001b[36mfiles\u001b[0m: \u001b[32mArray\u001b[0m[\u001b[32mjava\u001b[0m.\u001b[32mio\u001b[0m.\u001b[32mFile\u001b[0m] = \u001b[33mArray\u001b[0m(\n",
       "  .\\.android,\n",
       "  .\\.appwork,\n",
       "  .\\.bash_history,\n",
       "  .\\.continuum,\n",
       "  .\\.coursier,\n",
       "  .\\.gitconfig,\n",
       "  .\\.ipynb_checkpoints,\n",
       "  .\\.ipython,\n",
       "  .\\.jupyter,\n",
       "  .\\.jupyter-scala,\n",
       "  .\\.matplotlib,\n",
       "  .\\.oracle_jre_usage,\n",
       "  .\\.scalaide,\n",
       "  .\\.scala_history,\n",
       "  .\\.ssh,\n",
       "  .\\.VirtualBox,\n",
       "  .\\Anaconda2,\n",
       "  .\\AppData,\n",
       "  .\\Application Data,\n",
       "\u001b[33m...\u001b[0m\n",
       "\u001b[36mres3_1\u001b[0m: \u001b[32mClass\u001b[0m[\u001b[32m?0\u001b[0m] = class [Ljava.io.File;"
      ]
     },
     "metadata": {},
     "output_type": "display_data"
    }
   ],
   "source": [
    "//取得硬碟中指定路徑的資料夾內的檔案名稱\n",
    "\n",
    "//引用java的IO套件,java.io.File(\"要讀取的目錄路徑\")\n",
    "//File(\".\") 表示當前目錄, jupyter的場合是它的家目錄(Home)\n",
    "val files = new java.io.File(\".\").listFiles\n",
    "\n",
    "//java.io.File()傳回的是該目錄下所有檔案名稱\n",
    "//.listFiles這方法雖然名稱有\"list\", 但傳回的是array\n",
    "//用for迴圈逐一取出\n",
    "for(file <- files){\n",
    "    val filename = file.getName\n",
    "    //取得完整檔案名稱,包含副檔名\n",
    "    \n",
    "    if(filename.endsWith(\".ipynb\")){\n",
    "        //若檔名是以\".ipynb\"做結尾的就印出來\n",
    "        println(file)\n",
    "    }\n",
    "}\n",
    "\n",
    "//java.io的說明文件\n",
    "//http://www.tutorialspoint.com/java/io/java_io_file.htm"
   ]
  },
  {
   "cell_type": "code",
   "execution_count": 6,
   "metadata": {
    "collapsed": false
   },
   "outputs": [
    {
     "name": "stdout",
     "output_type": "stream",
     "text": [
      ".\\opencv_SIFT.ipynb\n",
      ".\\opencv_surf.ipynb\n",
      ".\\pygame.ipynb\n",
      ".\\scala_practice_01.ipynb\n",
      ".\\scala_practice_02.ipynb\n",
      ".\\scala_practice_03.ipynb\n",
      ".\\scala_practice_04.ipynb\n"
     ]
    },
    {
     "data": {
      "text/plain": []
     },
     "metadata": {},
     "output_type": "display_data"
    }
   ],
   "source": [
    "//scala上, for迴圈小括號內其實可以放很多東西\n",
    "for(\n",
    "    file2 <- files;\n",
    "    fileName2 = file2.getName;\n",
    "    if(fileName2.endsWith(\".ipynb\"))\n",
    "){\n",
    "    println(file2)\n",
    " }"
   ]
  },
  {
   "cell_type": "code",
   "execution_count": null,
   "metadata": {
    "collapsed": true
   },
   "outputs": [],
   "source": [
    "//scala的宣告 for(Enumerators) yield{expression block}\n",
    "//Enumerators可以放進變數宣告或filter類型的函數\n",
    "//有點像java的for(int i=0, i=i+1 ,i<10){}\n",
    "//注意在for回圈內宣告的變數只能是val\n",
    "//記得java是用\",\"隔開, scala用\";\"\n",
    "\n",
    "//yield是一個expression block開頭可選用的關鍵字,\n",
    "//它會將每一圈的結果個別放到一個list中"
   ]
  },
  {
   "cell_type": "code",
   "execution_count": 7,
   "metadata": {
    "collapsed": false
   },
   "outputs": [
    {
     "name": "stdout",
     "output_type": "stream",
     "text": [
      "1\n",
      "2\n",
      "3\n",
      "4\n",
      "5\n",
      "6\n",
      "7\n",
      "8\n",
      "9\n"
     ]
    },
    {
     "data": {
      "text/plain": [
       "\u001b[36marrays\u001b[0m: \u001b[32mArray\u001b[0m[\u001b[32mArray\u001b[0m[\u001b[32mInt\u001b[0m]] = \u001b[33mArray\u001b[0m(\u001b[33mArray\u001b[0m(\u001b[32m1\u001b[0m, \u001b[32m2\u001b[0m, \u001b[32m3\u001b[0m), \u001b[33mArray\u001b[0m(\u001b[32m4\u001b[0m, \u001b[32m5\u001b[0m, \u001b[32m6\u001b[0m), \u001b[33mArray\u001b[0m(\u001b[32m7\u001b[0m, \u001b[32m8\u001b[0m, \u001b[32m9\u001b[0m))"
      ]
     },
     "metadata": {},
     "output_type": "display_data"
    }
   ],
   "source": [
    "//因為有這種寫法, 所以巢狀迴圈就有簡化的寫法了\n",
    "//以兩層的array當例子\n",
    "var arrays = Array(Array(1,2,3),Array(4,5,6),Array(7,8,9))\n",
    "for(\n",
    "    array <- arrays;\n",
    "    ele <- array\n",
    "){\n",
    "    println(ele)    \n",
    "}\n",
    "\n",
    "//這樣就不需要像java那樣寫兩層for迴圈:\n",
    "//for(int[] array: arrays){\n",
    "//   for(int ele: array){\n",
    "//        system.out.println(ele)\n",
    "//    }\n",
    "//}"
   ]
  },
  {
   "cell_type": "code",
   "execution_count": 8,
   "metadata": {
    "collapsed": false
   },
   "outputs": [
    {
     "name": "stdout",
     "output_type": "stream",
     "text": [
      "1*1=1\n",
      "1*2=2\n",
      "1*3=3\n",
      "1*4=4\n",
      "1*5=5\n",
      "1*6=6\n",
      "1*7=7\n",
      "1*8=8\n",
      "1*9=9\n",
      "2*1=2\n",
      "2*2=4\n",
      "2*3=6\n",
      "2*4=8\n",
      "2*5=10\n",
      "2*6=12\n",
      "2*7=14\n",
      "2*8=16\n",
      "2*9=18\n",
      "3*1=3\n",
      "3*2=6\n",
      "3*3=9\n",
      "3*4=12\n",
      "3*5=15\n",
      "3*6=18\n",
      "3*7=21\n",
      "3*8=24\n",
      "3*9=27\n",
      "4*1=4\n",
      "4*2=8\n",
      "4*3=12\n",
      "4*4=16\n",
      "4*5=20\n",
      "4*6=24\n",
      "4*7=28\n",
      "4*8=32\n",
      "4*9=36\n",
      "5*1=5\n",
      "5*2=10\n",
      "5*3=15\n",
      "5*4=20\n",
      "5*5=25\n",
      "5*6=30\n",
      "5*7=35\n",
      "5*8=40\n",
      "5*9=45\n",
      "6*1=6\n",
      "6*2=12\n",
      "6*3=18\n",
      "6*4=24\n",
      "6*5=30\n",
      "6*6=36\n",
      "6*7=42\n",
      "6*8=48\n",
      "6*9=54\n",
      "7*1=7\n",
      "7*2=14\n",
      "7*3=21\n",
      "7*4=28\n",
      "7*5=35\n",
      "7*6=42\n",
      "7*7=49\n",
      "7*8=56\n",
      "7*9=63\n",
      "8*1=8\n",
      "8*2=16\n",
      "8*3=24\n",
      "8*4=32\n",
      "8*5=40\n",
      "8*6=48\n",
      "8*7=56\n",
      "8*8=64\n",
      "8*9=72\n",
      "9*1=9\n",
      "9*2=18\n",
      "9*3=27\n",
      "9*4=36\n",
      "9*5=45\n",
      "9*6=54\n",
      "9*7=63\n",
      "9*8=72\n",
      "9*9=81\n"
     ]
    },
    {
     "data": {
      "text/plain": [
       "\u001b[36mlist1\u001b[0m: \u001b[32mList\u001b[0m[\u001b[32mInt\u001b[0m] = \u001b[33mList\u001b[0m(\u001b[32m1\u001b[0m, \u001b[32m2\u001b[0m, \u001b[32m3\u001b[0m, \u001b[32m4\u001b[0m, \u001b[32m5\u001b[0m, \u001b[32m6\u001b[0m, \u001b[32m7\u001b[0m, \u001b[32m8\u001b[0m, \u001b[32m9\u001b[0m)\n",
       "\u001b[36mlist2\u001b[0m: \u001b[32mList\u001b[0m[\u001b[32mInt\u001b[0m] = \u001b[33mList\u001b[0m(\u001b[32m1\u001b[0m, \u001b[32m2\u001b[0m, \u001b[32m3\u001b[0m, \u001b[32m4\u001b[0m, \u001b[32m5\u001b[0m, \u001b[32m6\u001b[0m, \u001b[32m7\u001b[0m, \u001b[32m8\u001b[0m, \u001b[32m9\u001b[0m)"
      ]
     },
     "metadata": {},
     "output_type": "display_data"
    }
   ],
   "source": [
    "//九九乘法表\n",
    "\n",
    "val list1 = List(1,2,3,4,5,6,7,8,9)\n",
    "val list2 = List(1,2,3,4,5,6,7,8,9)\n",
    "for(x <- list1; y <- list2){\n",
    "    println (x + \"*\" + y + \"=\" + x*y)\n",
    "}"
   ]
  },
  {
   "cell_type": "code",
   "execution_count": 12,
   "metadata": {
    "collapsed": false
   },
   "outputs": [
    {
     "name": "stdout",
     "output_type": "stream",
     "text": [
      "1*1=1\n",
      "1*2=2\n",
      "1*3=3\n",
      "1*4=4\n",
      "1*5=5\n",
      "1*6=6\n",
      "1*7=7\n",
      "1*8=8\n",
      "1*9=9\n",
      "2*1=2\n",
      "2*2=4\n",
      "2*3=6\n",
      "2*4=8\n",
      "2*5=10\n",
      "2*6=12\n",
      "2*7=14\n",
      "2*8=16\n",
      "2*9=18\n",
      "3*1=3\n",
      "3*2=6\n",
      "3*3=9\n",
      "3*4=12\n",
      "3*5=15\n",
      "3*6=18\n",
      "3*7=21\n",
      "3*8=24\n",
      "3*9=27\n",
      "4*1=4\n",
      "4*2=8\n",
      "4*3=12\n",
      "4*4=16\n",
      "4*5=20\n",
      "4*6=24\n",
      "4*7=28\n",
      "4*8=32\n",
      "4*9=36\n",
      "5*1=5\n",
      "5*2=10\n",
      "5*3=15\n",
      "5*4=20\n",
      "5*5=25\n",
      "5*6=30\n",
      "5*7=35\n",
      "5*8=40\n",
      "5*9=45\n",
      "6*1=6\n",
      "6*2=12\n",
      "6*3=18\n",
      "6*4=24\n",
      "6*5=30\n",
      "6*6=36\n",
      "6*7=42\n",
      "6*8=48\n",
      "6*9=54\n",
      "7*1=7\n",
      "7*2=14\n",
      "7*3=21\n",
      "7*4=28\n",
      "7*5=35\n",
      "7*6=42\n",
      "7*7=49\n",
      "7*8=56\n",
      "7*9=63\n",
      "8*1=8\n",
      "8*2=16\n",
      "8*3=24\n",
      "8*4=32\n",
      "8*5=40\n",
      "8*6=48\n",
      "8*7=56\n",
      "8*8=64\n",
      "8*9=72\n",
      "9*1=9\n",
      "9*2=18\n",
      "9*3=27\n",
      "9*4=36\n",
      "9*5=45\n",
      "9*6=54\n",
      "9*7=63\n",
      "9*8=72\n",
      "9*9=81\n"
     ]
    },
    {
     "data": {
      "text/plain": [
       "\u001b[36mlist3\u001b[0m: \u001b[32mList\u001b[0m[\u001b[32mString\u001b[0m] = \u001b[33mList\u001b[0m(\n",
       "  \u001b[32m\"1*1=1\"\u001b[0m,\n",
       "  \u001b[32m\"1*2=2\"\u001b[0m,\n",
       "  \u001b[32m\"1*3=3\"\u001b[0m,\n",
       "  \u001b[32m\"1*4=4\"\u001b[0m,\n",
       "  \u001b[32m\"1*5=5\"\u001b[0m,\n",
       "  \u001b[32m\"1*6=6\"\u001b[0m,\n",
       "  \u001b[32m\"1*7=7\"\u001b[0m,\n",
       "  \u001b[32m\"1*8=8\"\u001b[0m,\n",
       "  \u001b[32m\"1*9=9\"\u001b[0m,\n",
       "  \u001b[32m\"2*1=2\"\u001b[0m,\n",
       "  \u001b[32m\"2*2=4\"\u001b[0m,\n",
       "  \u001b[32m\"2*3=6\"\u001b[0m,\n",
       "  \u001b[32m\"2*4=8\"\u001b[0m,\n",
       "  \u001b[32m\"2*5=10\"\u001b[0m,\n",
       "  \u001b[32m\"2*6=12\"\u001b[0m,\n",
       "  \u001b[32m\"2*7=14\"\u001b[0m,\n",
       "  \u001b[32m\"2*8=16\"\u001b[0m,\n",
       "  \u001b[32m\"2*9=18\"\u001b[0m,\n",
       "  \u001b[32m\"3*1=3\"\u001b[0m,\n",
       "\u001b[33m...\u001b[0m"
      ]
     },
     "metadata": {},
     "output_type": "display_data"
    }
   ],
   "source": [
    "//用yield的寫法\n",
    "val list3 = \n",
    "for(x <- list1; y <- list2) \n",
    "    yield{\n",
    "        x + \"*\" + y + \"=\" + x*y\n",
    "    }\n",
    "\n",
    "list3.foreach(println(_))"
   ]
  },
  {
   "cell_type": "code",
   "execution_count": 13,
   "metadata": {
    "collapsed": false
   },
   "outputs": [
    {
     "data": {
      "text/plain": [
       "\u001b[36mtable\u001b[0m: \u001b[32mxml\u001b[0m.\u001b[32mElem\u001b[0m = \u001b[33mElem\u001b[0m(\n",
       "  <table>1*1=1 1*2=2 1*3=3 1*4=4 1*5=5 1*6=6 1*7=7 1*8=8 1*9=9 2*1=2 2*2=4 2*3=6 2*4=8 2*5=10 2*6=12 2*7=14 2*8=16 2*9=18 3*1=3 3*2=6 3*3=9 3*4=12 3*5=15 3*6=18 3*7=21 3*8=24 3*9=27 4*1=4 4*2=8 4*3=12 4*4=16 4*5=20 4*6=24 4*7=28 4*8=32 4*9=36 5*1=5 5*2=10 5*3=15 5*4=20 5*5=25 5*6=30 5*7=35 5*8=40 5*9=45 6*1=6 6*2=12 6*3=18 6*4=24 6*5=30 6*6=36 6*7=42 6*8=48 6*9=54 7*1=7 7*2=14 7*3=21 7*4=28 7*5=35 7*6=42 7*7=49 7*8=56 7*9=63 8*1=8 8*2=16 8*3=24 8*4=32 8*5=40 8*6=48 8*7=56 8*8=64 8*9=72 9*1=9 9*2=18 9*3=27 9*4=36 9*5=45 9*6=54 9*7=63 9*8=72 9*9=81</table>\n",
       ")"
      ]
     },
     "metadata": {},
     "output_type": "display_data"
    }
   ],
   "source": [
    "//將list中的元素以string形態串起來要用list.mkString(\"串接符號\")\n",
    "val table = <table>{list3.mkString(\" \")}</table>"
   ]
  },
  {
   "cell_type": "code",
   "execution_count": 15,
   "metadata": {
    "collapsed": false
   },
   "outputs": [
    {
     "name": "stdout",
     "output_type": "stream",
     "text": [
      "1*1=1\n",
      "1*2=2\n",
      "1*3=3\n",
      "1*4=4\n",
      "1*5=5\n",
      "1*6=6\n",
      "1*7=7\n",
      "1*8=8\n",
      "1*9=9\n",
      "2*1=2\n",
      "2*2=4\n",
      "2*3=6\n",
      "2*4=8\n",
      "2*5=10\n",
      "2*6=12\n",
      "2*7=14\n",
      "2*8=16\n",
      "2*9=18\n",
      "3*1=3\n",
      "3*2=6\n",
      "3*3=9\n",
      "3*4=12\n",
      "3*5=15\n",
      "3*6=18\n",
      "3*7=21\n",
      "3*8=24\n",
      "3*9=27\n",
      "4*1=4\n",
      "4*2=8\n",
      "4*3=12\n",
      "4*4=16\n",
      "4*5=20\n",
      "4*6=24\n",
      "4*7=28\n",
      "4*8=32\n",
      "4*9=36\n",
      "5*1=5\n",
      "5*2=10\n",
      "5*3=15\n",
      "5*4=20\n",
      "5*5=25\n",
      "5*6=30\n",
      "5*7=35\n",
      "5*8=40\n",
      "5*9=45\n",
      "6*1=6\n",
      "6*2=12\n",
      "6*3=18\n",
      "6*4=24\n",
      "6*5=30\n",
      "6*6=36\n",
      "6*7=42\n",
      "6*8=48\n",
      "6*9=54\n",
      "7*1=7\n",
      "7*2=14\n",
      "7*3=21\n",
      "7*4=28\n",
      "7*5=35\n",
      "7*6=42\n",
      "7*7=49\n",
      "7*8=56\n",
      "7*9=63\n",
      "8*1=8\n",
      "8*2=16\n",
      "8*3=24\n",
      "8*4=32\n",
      "8*5=40\n",
      "8*6=48\n",
      "8*7=56\n",
      "8*8=64\n",
      "8*9=72\n",
      "9*1=9\n",
      "9*2=18\n",
      "9*3=27\n",
      "9*4=36\n",
      "9*5=45\n",
      "9*6=54\n",
      "9*7=63\n",
      "9*8=72\n",
      "9*9=81\n"
     ]
    },
    {
     "data": {
      "text/plain": [
       "\u001b[36mlist4\u001b[0m: \u001b[32mList\u001b[0m[\u001b[32mUnit\u001b[0m] = \u001b[33mList\u001b[0m(\n",
       "  \u001b[32m()\u001b[0m,\n",
       "  \u001b[32m()\u001b[0m,\n",
       "  \u001b[32m()\u001b[0m,\n",
       "  \u001b[32m()\u001b[0m,\n",
       "  \u001b[32m()\u001b[0m,\n",
       "  \u001b[32m()\u001b[0m,\n",
       "  \u001b[32m()\u001b[0m,\n",
       "  \u001b[32m()\u001b[0m,\n",
       "  \u001b[32m()\u001b[0m,\n",
       "  \u001b[32m()\u001b[0m,\n",
       "  \u001b[32m()\u001b[0m,\n",
       "  \u001b[32m()\u001b[0m,\n",
       "  \u001b[32m()\u001b[0m,\n",
       "  \u001b[32m()\u001b[0m,\n",
       "  \u001b[32m()\u001b[0m,\n",
       "  \u001b[32m()\u001b[0m,\n",
       "  \u001b[32m()\u001b[0m,\n",
       "  \u001b[32m()\u001b[0m,\n",
       "  \u001b[32m()\u001b[0m,\n",
       "\u001b[33m...\u001b[0m"
      ]
     },
     "metadata": {},
     "output_type": "display_data"
    }
   ],
   "source": [
    "//千萬不要在yeild的區塊裡面用println\n",
    "//因為println傳回Unit(等於java的void),\n",
    "//這會導致yield每一圈都得到Unit,最後形成一個Unit型態的list\n",
    "//就是一個空的list,只是list長度等於迴圈數\n",
    "\n",
    "val list4 = \n",
    "for(x <- list1; y <- list2) \n",
    "    yield{\n",
    "        println(x + \"*\" + y + \"=\" + x*y)\n",
    "    }\n",
    "\n",
    "//如果要用yield,那就在迴圈結束後才println"
   ]
  },
  {
   "cell_type": "code",
   "execution_count": null,
   "metadata": {
    "collapsed": true
   },
   "outputs": [],
   "source": []
  }
 ],
 "metadata": {
  "kernelspec": {
   "display_name": "Scala 2.11",
   "language": "scala211",
   "name": "scala211"
  },
  "language_info": {
   "codemirror_mode": "text/x-scala",
   "file_extension": ".scala",
   "mimetype": "text/x-scala",
   "name": "scala211",
   "pygments_lexer": "scala",
   "version": "2.11.8"
  }
 },
 "nbformat": 4,
 "nbformat_minor": 0
}
