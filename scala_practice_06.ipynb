{
 "cells": [
  {
   "cell_type": "code",
   "execution_count": null,
   "metadata": {
    "collapsed": true
   },
   "outputs": [],
   "source": [
    "//Curry(鞣製), 又稱柯里化\n",
    "//多參數的函數, 將各參數獨立傳入, 這稱作curried function"
   ]
  },
  {
   "cell_type": "code",
   "execution_count": 5,
   "metadata": {
    "collapsed": false
   },
   "outputs": [
    {
     "data": {
      "text/plain": [
       "defined \u001b[32mfunction \u001b[36mtest1\u001b[0m\n",
       "defined \u001b[32mfunction \u001b[36mtest2\u001b[0m"
      ]
     },
     "metadata": {},
     "output_type": "display_data"
    }
   ],
   "source": [
    "//test1是普通的函數\n",
    "//test2是curried\n",
    "def test1(m:Int,n:Int) = m*n \n",
    "def test2(m:Int)(n:Int) = m*n"
   ]
  },
  {
   "cell_type": "code",
   "execution_count": 6,
   "metadata": {
    "collapsed": false
   },
   "outputs": [
    {
     "data": {
      "text/plain": [
       "\u001b[36mres5_0\u001b[0m: \u001b[32mInt\u001b[0m = \u001b[32m15\u001b[0m\n",
       "\u001b[36mres5_1\u001b[0m: \u001b[32mInt\u001b[0m = \u001b[32m15\u001b[0m"
      ]
     },
     "metadata": {},
     "output_type": "display_data"
    }
   ],
   "source": [
    "//宣告的不同, 代入函數時的寫法就不同\n",
    "test1(3,5)\n",
    "test2(3)(5)"
   ]
  },
  {
   "cell_type": "code",
   "execution_count": 7,
   "metadata": {
    "collapsed": false
   },
   "outputs": [
    {
     "data": {
      "text/plain": [
       "\u001b[36mtest3\u001b[0m: \u001b[32mInt\u001b[0m => \u001b[32mInt\u001b[0m = <function1>\n",
       "\u001b[36mres6_1\u001b[0m: \u001b[32mInt\u001b[0m = \u001b[32m15\u001b[0m"
      ]
     },
     "metadata": {},
     "output_type": "display_data"
    }
   ],
   "source": [
    "val test3 = test2(3)(_)\n",
    "test3(5)"
   ]
  },
  {
   "cell_type": "code",
   "execution_count": 9,
   "metadata": {
    "collapsed": false
   },
   "outputs": [
    {
     "data": {
      "text/plain": [
       "\u001b[36mtest4\u001b[0m: \u001b[32mInt\u001b[0m => \u001b[32mInt\u001b[0m = <function1>\n",
       "\u001b[36mres8_1\u001b[0m: \u001b[32mInt\u001b[0m = \u001b[32m15\u001b[0m"
      ]
     },
     "metadata": {},
     "output_type": "display_data"
    }
   ],
   "source": [
    "val test4 = test1(3, _:Int)\n",
    "test4(5)"
   ]
  },
  {
   "cell_type": "code",
   "execution_count": 10,
   "metadata": {
    "collapsed": false
   },
   "outputs": [
    {
     "data": {
      "text/plain": [
       "defined \u001b[32mfunction \u001b[36munless\u001b[0m"
      ]
     },
     "metadata": {},
     "output_type": "display_data"
    }
   ],
   "source": [
    "def unless(condition:Boolean, expression: => Any) = {\n",
    "    if(condition){\n",
    "        expression\n",
    "    }\n",
    "}\n",
    "\n",
    "//定義一個unless函數,\n",
    "//當傳入的Boolean為true的時候,\n",
    "//才執行第二個傳入的參數,這個參數是一個函數,可傳回Any型態的東西"
   ]
  },
  {
   "cell_type": "code",
   "execution_count": 12,
   "metadata": {
    "collapsed": false
   },
   "outputs": [
    {
     "name": "stdout",
     "output_type": "stream",
     "text": [
      "囧rz\n",
      "x=0\n"
     ]
    },
    {
     "data": {
      "text/plain": [
       "\u001b[36mres11_0\u001b[0m: \u001b[32mAny\u001b[0m = ()\n",
       "\u001b[36mres11_1\u001b[0m: \u001b[32mAny\u001b[0m = ()\n",
       "\u001b[36mx\u001b[0m: \u001b[32mInt\u001b[0m = \u001b[32m0\u001b[0m\n",
       "\u001b[36mres11_3\u001b[0m: \u001b[32mAny\u001b[0m = ()"
      ]
     },
     "metadata": {},
     "output_type": "display_data"
    }
   ],
   "source": [
    "unless(false, println(\"XD\"))\n",
    "unless(true, println(\"囧rz\"))\n",
    "val x = 0\n",
    "unless(x==0, println(\"x=\"+x))"
   ]
  },
  {
   "cell_type": "code",
   "execution_count": 13,
   "metadata": {
    "collapsed": false
   },
   "outputs": [
    {
     "data": {
      "text/plain": [
       "defined \u001b[32mfunction \u001b[36munless_curry\u001b[0m"
      ]
     },
     "metadata": {},
     "output_type": "display_data"
    }
   ],
   "source": [
    "//利用curry改寫:\n",
    "def unless_curry(condition:Boolean)(expression: => Any) = {\n",
    "    if(condition){\n",
    "        expression\n",
    "    }\n",
    "}\n",
    "\n",
    "//這裡的expression: => Any,這叫By-name parameter\n",
    "//其實是expression: ()=> Any,這叫By-value parameter \n",
    "//但底下的expression就要跟著加上小括號 \n",
    "//if(condition){\n",
    "//        expression()\n",
    "//    }\n",
    "//呼叫函數的時候也必須加上()\n",
    "//unless(true, () => println(\"Orz\"))"
   ]
  },
  {
   "cell_type": "code",
   "execution_count": 14,
   "metadata": {
    "collapsed": false
   },
   "outputs": [
    {
     "name": "stdout",
     "output_type": "stream",
     "text": [
      "XD...true\n"
     ]
    },
    {
     "data": {
      "text/plain": [
       "\u001b[36mflag\u001b[0m: \u001b[32mBoolean\u001b[0m = \u001b[32mtrue\u001b[0m\n",
       "\u001b[36mres13_1\u001b[0m: \u001b[32mAny\u001b[0m = ()"
      ]
     },
     "metadata": {},
     "output_type": "display_data"
    }
   ],
   "source": [
    "//可以這樣理解下面的寫法:\n",
    "//unless_curry(flag)({println(s\"XD...$flag\")})\n",
    "//第二個參數的小括號被省略了\n",
    "//使得看起來很像 方法名稱(參數){方法本體}\n",
    "val flag = true\n",
    "unless_curry(flag){\n",
    "    println(s\"XD...$flag\")\n",
    "}"
   ]
  },
  {
   "cell_type": "code",
   "execution_count": 15,
   "metadata": {
    "collapsed": false
   },
   "outputs": [
    {
     "data": {
      "text/plain": [
       "defined \u001b[32mfunction \u001b[36muntil\u001b[0m"
      ]
     },
     "metadata": {},
     "output_type": "display_data"
    }
   ],
   "source": [
    "//scala沒有until函數\n",
    "//但可以自己寫一個,利用遞迴\n",
    "def until(cond: => Boolean)(expr: => Unit){\n",
    "    if(!cond){\n",
    "        expr\n",
    "        until(cond)(expr) //傳回until本身\n",
    "    }\n",
    "}\n",
    "\n",
    "//注意這裡的cond也是函數cond:=>Boolean, 不是cond:Boolean"
   ]
  },
  {
   "cell_type": "code",
   "execution_count": 16,
   "metadata": {
    "collapsed": false
   },
   "outputs": [
    {
     "name": "stdout",
     "output_type": "stream",
     "text": [
      "10\n",
      "9\n",
      "8\n",
      "7\n",
      "6\n",
      "5\n",
      "4\n",
      "3\n",
      "2\n",
      "1\n"
     ]
    },
    {
     "data": {
      "text/plain": [
       "\u001b[36mcount\u001b[0m: \u001b[32mInt\u001b[0m = \u001b[32m0\u001b[0m"
      ]
     },
     "metadata": {},
     "output_type": "display_data"
    }
   ],
   "source": [
    "var count = 10\n",
    "until(count == 0){ //每次都令count-1, 直到count==0\n",
    "    println(count)\n",
    "    count -= 1\n",
    "}"
   ]
  },
  {
   "cell_type": "code",
   "execution_count": 17,
   "metadata": {
    "collapsed": false
   },
   "outputs": [
    {
     "data": {
      "text/plain": [
       "defined \u001b[32mfunction \u001b[36msum\u001b[0m"
      ]
     },
     "metadata": {},
     "output_type": "display_data"
    }
   ],
   "source": [
    "//重複參數\n",
    "//當你不知道使用者會輸入多少個參數的時候可以在宣告參數型態加上*\n",
    "//表示可以重複輸入參數\n",
    "//這串輸入的東西會是scala.Seq[T], 一個序列, 不是array\n",
    "//可以用toArray方法轉換成array\n",
    "def sum(num:Int*) = num.reduceLeft((a,b) => a+b)\n",
    "\n",
    "//在reduce裡面放一個匿名函數(a,b) => a+b\n",
    "//其實可以簡化成_+_\n",
    "//def sum(num:Int*) = num.reduceLeft(_+_)"
   ]
  },
  {
   "cell_type": "code",
   "execution_count": 18,
   "metadata": {
    "collapsed": false
   },
   "outputs": [
    {
     "name": "stdout",
     "output_type": "stream",
     "text": [
      "4\n",
      "16\n",
      "64\n"
     ]
    },
    {
     "data": {
      "text/plain": []
     },
     "metadata": {},
     "output_type": "display_data"
    }
   ],
   "source": [
    "println(sum(1,3))\n",
    "println(sum(1,3,5,7))\n",
    "println(sum(1,3,5,7,9,11,13,15))"
   ]
  },
  {
   "cell_type": "code",
   "execution_count": 19,
   "metadata": {
    "collapsed": false
   },
   "outputs": [
    {
     "name": "stdout",
     "output_type": "stream",
     "text": [
      "25\n"
     ]
    },
    {
     "data": {
      "text/plain": [
       "\u001b[36marray\u001b[0m: \u001b[32mArray\u001b[0m[\u001b[32mInt\u001b[0m] = \u001b[33mArray\u001b[0m(\u001b[32m1\u001b[0m, \u001b[32m3\u001b[0m, \u001b[32m5\u001b[0m, \u001b[32m7\u001b[0m, \u001b[32m9\u001b[0m)"
      ]
     },
     "metadata": {},
     "output_type": "display_data"
    }
   ],
   "source": [
    "//若要輸入Array則需要額外宣告_*,\n",
    "//含意是將Array的每一個元素取出來組成Seq\n",
    "val array = Array(1,3,5,7,9)\n",
    "println(sum(array:_*))"
   ]
  },
  {
   "cell_type": "code",
   "execution_count": 19,
   "metadata": {
    "collapsed": false
   },
   "outputs": [
    {
     "ename": "",
     "evalue": "",
     "output_type": "error",
     "traceback": [
      "\u001b[31mMain.scala:27: type mismatch;",
      " found   : Array[Int]",
      " required: Int\r",
      "println(sum(array))\r",
      "            ^\u001b[0m"
     ]
    }
   ],
   "source": [
    "//直接放入array是會報錯的, 型態錯誤(type mismatch)\n",
    "println(sum(array))"
   ]
  },
  {
   "cell_type": "code",
   "execution_count": 24,
   "metadata": {
    "collapsed": false
   },
   "outputs": [
    {
     "data": {
      "text/plain": [
       "defined \u001b[32mfunction \u001b[36msum2\u001b[0m"
      ]
     },
     "metadata": {},
     "output_type": "display_data"
    }
   ],
   "source": [
    "//reduceLeft與foldLeft的不同:\n",
    "//foldLeft(index) 可以用index指定Seq的起點\n",
    "def sum2(num:Int*) = num.foldLeft(0)(_+_)"
   ]
  },
  {
   "cell_type": "code",
   "execution_count": 28,
   "metadata": {
    "collapsed": false
   },
   "outputs": [
    {
     "name": "stdout",
     "output_type": "stream",
     "text": [
      "64\n"
     ]
    },
    {
     "data": {
      "text/plain": [
       "\u001b[36mresult\u001b[0m: \u001b[32mInt\u001b[0m = \u001b[32m64\u001b[0m"
      ]
     },
     "metadata": {},
     "output_type": "display_data"
    }
   ],
   "source": [
    "println(sum2(1,3,5,7,9,11,13,15))\n",
    "var result = 1+3+5+7+9+11+13+15"
   ]
  },
  {
   "cell_type": "code",
   "execution_count": 29,
   "metadata": {
    "collapsed": false
   },
   "outputs": [
    {
     "data": {
      "text/plain": [
       "defined \u001b[32mfunction \u001b[36msum3\u001b[0m"
      ]
     },
     "metadata": {},
     "output_type": "display_data"
    }
   ],
   "source": [
    "def sum3(num:Int*) = num.foldLeft(3)(_+_)"
   ]
  },
  {
   "cell_type": "code",
   "execution_count": 32,
   "metadata": {
    "collapsed": false
   },
   "outputs": [
    {
     "name": "stdout",
     "output_type": "stream",
     "text": [
      "67\n"
     ]
    },
    {
     "data": {
      "text/plain": [
       "\u001b[36mresult\u001b[0m: \u001b[32mInt\u001b[0m = \u001b[32m71\u001b[0m"
      ]
     },
     "metadata": {},
     "output_type": "display_data"
    }
   ],
   "source": [
    "println(sum3(1,3,5,7,9,11,13,15))\n",
    "var result = 7+9+11+13+15"
   ]
  },
  {
   "cell_type": "code",
   "execution_count": null,
   "metadata": {
    "collapsed": true
   },
   "outputs": [],
   "source": []
  }
 ],
 "metadata": {
  "kernelspec": {
   "display_name": "Scala 2.11",
   "language": "scala211",
   "name": "scala211"
  },
  "language_info": {
   "codemirror_mode": "text/x-scala",
   "file_extension": ".scala",
   "mimetype": "text/x-scala",
   "name": "scala211",
   "pygments_lexer": "scala",
   "version": "2.11.8"
  }
 },
 "nbformat": 4,
 "nbformat_minor": 0
}
